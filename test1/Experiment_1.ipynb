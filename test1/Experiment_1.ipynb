{
 "cells": [
  {
   "cell_type": "code",
   "execution_count": null,
   "id": "6b124ab8",
   "metadata": {},
   "outputs": [],
   "source": [
    "import numpy as np\n",
    "\n",
    "def isNarcissistic(num):\n",
    "    strNum1 = str(num)[0:1]\n",
    "    strNum2 = str(num)[1:2]\n",
    "    strNum3 = str(num)[2:3]\n",
    "    if int(strNum1)**3+int(strNum2)**3+int(strNum3)**3 == num:\n",
    "        return True\n",
    "    else:\n",
    "        return False\n",
    "    \n",
    "def isValid(s):\n",
    "    flag = True\n",
    "    if s < 2:\n",
    "        flag = False\n",
    "    else:\n",
    "        for i in range(2,int(np.sqrt(s))):\n",
    "            if s % i == 0:\n",
    "                flag = False\n",
    "                break\n",
    "            else:\n",
    "                flag = True\n",
    "    return flag\n",
    "    \n",
    "numArray = []\n",
    "for i in range(100,1000):\n",
    "    if isNarcissistic(i) and isValid(i):\n",
    "        numArray.append(i)\n",
    "\n",
    "if numArray == []:\n",
    "    print('不存在')\n",
    "else:\n",
    "    print(numArray) "
   ]
  },
  {
   "cell_type": "code",
   "execution_count": null,
   "id": "621edf47",
   "metadata": {},
   "outputs": [],
   "source": [
    "def isValid(num):\n",
    "    if not num <= 200:\n",
    "        return False\n",
    "    else:\n",
    "        return True\n",
    "\n",
    "salary = int(input('Enter the salary:'))\n",
    "\n",
    "count = 0\n",
    "if isValid(salary):\n",
    "    for a in range(0,salary//100+1):\n",
    "        for b in range(0,salary//50+1):\n",
    "            for c in range(0,salary//20+1):\n",
    "                for d in range(0,salary//10+1):\n",
    "                    for e in range(0,salary//5+1):\n",
    "                        for f in range(0,salary//1+1):\n",
    "                            if a*100+b*50+c*20+d*10+e*5+f == salary:\n",
    "                                count += 1\n",
    "    print(count)\n",
    "else:\n",
    "    print('Unvalid input!')\n"
   ]
  },
  {
   "cell_type": "code",
   "execution_count": null,
   "id": "641477c4",
   "metadata": {},
   "outputs": [],
   "source": [
    "import datetime as dt\n",
    "\n",
    "time = '2021-01-01'\n",
    "time2 = '2021-10-10'\n",
    "\n",
    "weekDic = {\n",
    "    '0':'周日',\n",
    "    '1':'周一',\n",
    "    '2':'周二',\n",
    "    '3':'周三',\n",
    "    '4':'周四',\n",
    "    '5':'周五',\n",
    "    '6':'周六'\n",
    "    \n",
    "}\n",
    "\n",
    "date = dt.datetime.strptime(time,'%Y-%m-%d')\n",
    "date2 = dt.datetime.strptime(time2,'%Y-%m-%d')\n",
    "week = dt.datetime.strftime(date,'%w')\n",
    "\n",
    "print(weekDic[week])\n",
    "\n",
    "date.isoformat()\n",
    "print(type(date2))\n",
    "print(type(date-date2))\n",
    "\n"
   ]
  },
  {
   "cell_type": "code",
   "execution_count": null,
   "id": "3cfd3066",
   "metadata": {},
   "outputs": [],
   "source": []
  },
  {
   "cell_type": "code",
   "execution_count": null,
   "id": "dd072edf",
   "metadata": {},
   "outputs": [],
   "source": []
  }
 ],
 "metadata": {
  "celltoolbar": "原始单元格格式",
  "kernelspec": {
   "display_name": "Python 3",
   "language": "python",
   "name": "python3"
  },
  "language_info": {
   "codemirror_mode": {
    "name": "ipython",
    "version": 3
   },
   "file_extension": ".py",
   "mimetype": "text/x-python",
   "name": "python",
   "nbconvert_exporter": "python",
   "pygments_lexer": "ipython3",
   "version": "3.8.8"
  }
 },
 "nbformat": 4,
 "nbformat_minor": 5
}
