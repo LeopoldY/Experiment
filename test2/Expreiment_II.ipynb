{
 "cells": [
  {
   "cell_type": "code",
   "execution_count": 5,
   "id": "acb261fc",
   "metadata": {},
   "outputs": [
    {
     "name": "stdout",
     "output_type": "stream",
     "text": [
      "x:5\n",
      "y:5\n",
      "z:5\n",
      "cosAlpha:0.5773502691896257,cosBeta:0.5773502691896257,cosGamma:0.5773502691896257\n"
     ]
    }
   ],
   "source": [
    "'''4'''\n",
    "import math\n",
    "\n",
    "def cosAlpha(x):\n",
    "    return x/deno\n",
    "\n",
    "def cosBeta(y):\n",
    "    return y/deno\n",
    "\n",
    "def cosGamma(z):\n",
    "    return z/deno\n",
    "\n",
    "if __name__ == '__main__':\n",
    "    x = int(input('x:'))\n",
    "    y = int(input('y:'))\n",
    "    z = int(input('z:'))\n",
    "    deno = math.sqrt(x**2+y**2+z**2)\n",
    "    print(f'cosAlpha:{cosAlpha(x)},cosBeta:{cosBeta(y)},cosGamma:{cosGamma(z)}')"
   ]
  },
  {
   "cell_type": "code",
   "execution_count": 3,
   "id": "7c8daccd",
   "metadata": {},
   "outputs": [
    {
     "name": "stdout",
     "output_type": "stream",
     "text": [
      "1\n",
      "True\n"
     ]
    }
   ],
   "source": [
    "'''5'''\n",
    "num = lambda n,k:str(n)[-k] if k<=len(str(n)) else -1\n",
    "print(num(123,3))"
   ]
  },
  {
   "cell_type": "code",
   "execution_count": 1,
   "id": "ab78ab64",
   "metadata": {},
   "outputs": [
    {
     "name": "stdout",
     "output_type": "stream",
     "text": [
      "True\n"
     ]
    }
   ],
   "source": [
    "'''6'''\n",
    "isExist = lambda d,n:True if str(d) in str(n) else False\n",
    "print(isExist(10,100))"
   ]
  },
  {
   "cell_type": "code",
   "execution_count": 2,
   "id": "eea69201",
   "metadata": {},
   "outputs": [
    {
     "name": "stdout",
     "output_type": "stream",
     "text": [
      "The tempreture of Sun:12\n",
      "The tempreture of Mon:10\n",
      "The tempreture of Tues:13\n",
      "The tempreture of Wed:14\n",
      "The tempreture of Thur:15\n",
      "The tempreture of Fri:9\n",
      "The tempreture of Sat:8\n",
      "The minimun tempreture:10\n",
      "Tues,Wed,Thur are suitable for traveling.\n",
      "Wed,Thur,Fri are suitable for traveling.\n",
      "Thur,Fri,Sat are suitable for traveling.\n"
     ]
    }
   ],
   "source": [
    "'''7'''\n",
    "weekDic = {\n",
    "    1:'Sun',\n",
    "    2:'Mon',\n",
    "    3:'Tues',\n",
    "    4:'Wed',\n",
    "    5:'Thur',\n",
    "    6:'Fri',\n",
    "    7:'Sat'\n",
    "}\n",
    "\n",
    "def TravelCase(tempretureList:list,minTemp):\n",
    "    for i in range(5):\n",
    "        if tempretureList[i] > minTemp and tempretureList[i+1] > minTemp and tempretureList[+2] > minTemp:\n",
    "            print(f'{weekDic[i+1]},{weekDic[i+2]},{weekDic[i+3]} are suitable for traveling.')\n",
    "\n",
    "if __name__ == '__main__':\n",
    "    weekTemp = []\n",
    "    for i in range(7):\n",
    "        weekTemp.append(input(f'The tempreture of {weekDic[i+1]}:'))\n",
    "    minTemp = input('The minimun tempreture:')\n",
    "    TravelCase(weekTemp,minTemp)"
   ]
  },
  {
   "cell_type": "code",
   "execution_count": 3,
   "id": "4b450207",
   "metadata": {},
   "outputs": [
    {
     "name": "stdout",
     "output_type": "stream",
     "text": [
      "Enter the number:983651\n",
      "False\n"
     ]
    }
   ],
   "source": [
    "'''8'''\n",
    "def isPrime(num):\n",
    "    if num == 1:\n",
    "        return False\n",
    "    elif num == 2:\n",
    "        return True\n",
    "    else:\n",
    "        for i in range(2,num):\n",
    "            if num % i == 0:\n",
    "                return False\n",
    "        else:\n",
    "            return True\n",
    "\n",
    "def isOddNum(num):\n",
    "    if num % 2 == 1:\n",
    "        return True\n",
    "    else:\n",
    "        return False\n",
    "\n",
    "def extract(num:str):\n",
    "    num_Str = ''\n",
    "    for i in num:\n",
    "        if isOddNum(int(i)):\n",
    "            num_Str += i\n",
    "    return int(num_Str)\n",
    "\n",
    "if __name__ == '__main__':\n",
    "    num = input('Enter the number:')\n",
    "    print(isPrime(extract(num)))"
   ]
  },
  {
   "cell_type": "code",
   "execution_count": 4,
   "id": "07d0f285",
   "metadata": {},
   "outputs": [
    {
     "name": "stdout",
     "output_type": "stream",
     "text": [
      "Enter n:10\n",
      "0.6241652904214435\n"
     ]
    }
   ],
   "source": [
    "'''9'''\n",
    "def f(n):\n",
    "    if n == 1:\n",
    "        return 1\n",
    "    elif n == 2:\n",
    "        return 2\n",
    "    else:\n",
    "        return 1/(f(n-1)+f(n-2))\n",
    "        \n",
    "if __name__ == '__main__':\n",
    "    print(f(int(input('Enter n:'))))"
   ]
  },
  {
   "cell_type": "code",
   "execution_count": null,
   "id": "1e91d5f8",
   "metadata": {},
   "outputs": [],
   "source": []
  }
 ],
 "metadata": {
  "kernelspec": {
   "display_name": "Python 3",
   "language": "python",
   "name": "python3"
  },
  "language_info": {
   "codemirror_mode": {
    "name": "ipython",
    "version": 3
   },
   "file_extension": ".py",
   "mimetype": "text/x-python",
   "name": "python",
   "nbconvert_exporter": "python",
   "pygments_lexer": "ipython3",
   "version": "3.8.8"
  }
 },
 "nbformat": 4,
 "nbformat_minor": 5
}
