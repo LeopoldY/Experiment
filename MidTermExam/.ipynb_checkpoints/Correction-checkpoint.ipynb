{
 "cells": [
  {
   "cell_type": "code",
   "execution_count": null,
   "id": "2d9729c6",
   "metadata": {},
   "outputs": [],
   "source": [
    "'''一、（4）'''\n",
    "x = [[]] * 3\n",
    "x[0].append(1)\n",
    "print(x)"
   ]
  },
  {
   "cell_type": "code",
   "execution_count": 1,
   "id": "69a1f20f",
   "metadata": {},
   "outputs": [
    {
     "name": "stdout",
     "output_type": "stream",
     "text": [
      "False\n",
      "True\n"
     ]
    }
   ],
   "source": [
    "'''一、（7）'''\n",
    "s = 'My name is Ming, and i am 18.'\n",
    "print(s[-8:-1] == 'i am 18.') \n",
    "print(len(s) == 29)"
   ]
  },
  {
   "cell_type": "code",
   "execution_count": 11,
   "id": "49707ac6",
   "metadata": {},
   "outputs": [
    {
     "name": "stdout",
     "output_type": "stream",
     "text": [
      "[2, 6]\n"
     ]
    }
   ],
   "source": [
    "'''一、（9）'''\n",
    "lst=[1,2,3,4,5,6]\n",
    "y = eval('6//3')\n",
    "del lst[lst[y]]\n",
    "x = filter(lambda m:m%2 == 0, lst)\n",
    "'''\n",
    "    filter(function, iterable): 返回序列中满足function的序列\n",
    "'''\n",
    "print(list(x))"
   ]
  },
  {
   "cell_type": "code",
   "execution_count": 12,
   "id": "b7b0e682",
   "metadata": {},
   "outputs": [],
   "source": [
    "'''一、（10）'''\n",
    "f = open('test.txt','w')\n",
    "f.write('ZWJ is a idiot.')\n",
    "\n",
    "#下面这种写法需要缩进，很显热敬爱的朱文杰没有意识到这一点呢\n",
    "with open('test.txt','w') as f:\n",
    "    f.write('ZWJ is a stupid idiot')\n",
    "            \n",
    "fn = open('test.txt','r')\n",
    "lst = fn.readlines()\n",
    "fn.close()"
   ]
  },
  {
   "cell_type": "code",
   "execution_count": 14,
   "id": "20cafc17",
   "metadata": {},
   "outputs": [
    {
     "name": "stdout",
     "output_type": "stream",
     "text": [
      "[1, 1, 2, 4, 8, 16]\n"
     ]
    }
   ],
   "source": [
    "'''四、（1）'''\n",
    "opt = [1,2,3,4,5,6]\n",
    "    \n",
    "for i in range(1,len(opt)): \n",
    "    opt[i] = sum(opt[:i])\n",
    "\n",
    "print(opt)"
   ]
  },
  {
   "cell_type": "code",
   "execution_count": null,
   "id": "a2124264",
   "metadata": {},
   "outputs": [],
   "source": [
    "'''四、（3）'''\n",
    "fn = lambda *p:print(p[1]+p[2]+'|',end='')\n",
    "\n",
    "def fun(n,x,y,z):\n",
    "    if n == 1:\n",
    "        fn(1,x,y)\n",
    "    else:\n",
    "        fun(n-1,x,z,y)\n",
    "        fn(1,x,y)\n",
    "        fun(n-1,z,y,x)\n",
    "\n",
    "fun(3,'A','B','T')"
   ]
  },
  {
   "cell_type": "code",
   "execution_count": null,
   "id": "1dcc0d0c",
   "metadata": {},
   "outputs": [],
   "source": [
    "'''五、（1）'''\n",
    "import math\n",
    "x = float(input())\n",
    "\n",
    "def sqrtN(x,n):\n",
    "    for _ in range(n):\n",
    "        x = math.sqrt(x)\n",
    "    return x\n",
    "\n",
    "if x > 10:\n",
    "    y = math.sin(x) + math.sqrt(x**2+1)\n",
    "elif 0 < x and x <= 10:\n",
    "    y = math.e ** x + sqrtN(x,5) \n",
    "elif x <= 0:\n",
    "    y = math.cos(x) - x**3 + 6*x\n",
    "\n",
    "print('%.2f'%y)"
   ]
  }
 ],
 "metadata": {
  "kernelspec": {
   "display_name": "Python 3",
   "language": "python",
   "name": "python3"
  },
  "language_info": {
   "codemirror_mode": {
    "name": "ipython",
    "version": 3
   },
   "file_extension": ".py",
   "mimetype": "text/x-python",
   "name": "python",
   "nbconvert_exporter": "python",
   "pygments_lexer": "ipython3",
   "version": "3.8.8"
  }
 },
 "nbformat": 4,
 "nbformat_minor": 5
}
