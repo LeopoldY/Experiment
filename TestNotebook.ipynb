{
 "cells": [
  {
   "cell_type": "code",
   "execution_count": 12,
   "metadata": {},
   "outputs": [
    {
     "name": "stdout",
     "output_type": "stream",
     "text": [
      "tensor([[1.6224, 0.9977, 0.4738],\n",
      "        [1.7126, 0.3716, 0.9960],\n",
      "        [0.3601, 1.4945, 1.1013],\n",
      "        [0.0819, 1.3422, 1.5980],\n",
      "        [1.1741, 1.1777, 1.3915]])\n"
     ]
    },
    {
     "name": "stderr",
     "output_type": "stream",
     "text": [
      "<ipython-input-12-5f79c77a0cbf>:9: UserWarning: An output with one or more elements was resized since it had shape [5, 4], which does not match the required output shape [5, 3].This behavior is deprecated, and in a future PyTorch release outputs will not be resized unless they have zero elements. You can explicitly reuse an out tensor t by resizing it, inplace, to zero elements with t.resize_(0). (Triggered internally at  ../aten/src/ATen/native/Resize.cpp:23.)\n",
      "  print(torch.add(x, y, out=result))\n"
     ]
    }
   ],
   "source": [
    "import torch\n",
    "\n",
    "x = torch.Tensor(5,3)\n",
    "x = x.new_ones(5, 3, dtype=torch.double)\n",
    "x = torch.rand_like(x, dtype=torch.float)\n",
    "y = torch.rand(5, 3)\n",
    "\n",
    "result = torch.empty(5,4)\n",
    "print(torch.add(x, y, out=result))"
   ]
  }
 ],
 "metadata": {
  "interpreter": {
   "hash": "868571a83a149f396f76180dd09432450a4044a2cf164c54114785822e5aeaab"
  },
  "kernelspec": {
   "display_name": "Python 3.8.8 64-bit ('base': conda)",
   "language": "python",
   "name": "python3"
  },
  "language_info": {
   "codemirror_mode": {
    "name": "ipython",
    "version": 3
   },
   "file_extension": ".py",
   "mimetype": "text/x-python",
   "name": "python",
   "nbconvert_exporter": "python",
   "pygments_lexer": "ipython3",
   "version": "3.8.8"
  },
  "orig_nbformat": 4
 },
 "nbformat": 4,
 "nbformat_minor": 2
}
