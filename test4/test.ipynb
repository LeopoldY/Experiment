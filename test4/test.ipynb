{
 "cells": [
  {
   "cell_type": "code",
   "execution_count": 35,
   "metadata": {},
   "outputs": [],
   "source": [
    "def f(x):\n",
    "    y = 2 * x**3 + 5 * x**2 - 7 * x + 2\n",
    "    return y\n",
    "\n",
    "with open(\"Answer.txt\",\"w\") as aw:\n",
    "    for i in range(-10,11):\n",
    "        aw.write(str(f(i))+'\\n')\n"
   ]
  },
  {
   "cell_type": "code",
   "execution_count": 34,
   "metadata": {},
   "outputs": [],
   "source": [
    "elem = \"0\"\n",
    "with open(\"Answer2.txt\",\"w\") as aw2:\n",
    "    for y in range(12, -12, -1):\n",
    "        lst = []\n",
    "        lst_con = ''\n",
    "        for x in range(-30, 30):\n",
    "            formula = ((x*0.05)**2+(y*0.1)**2-1)**3-(x*0.05)**2*(y*0.1)**3\n",
    "            if formula <= 0:\n",
    "                lst_con += elem[(x) % len(elem)]\n",
    "            else:\n",
    "                lst_con += '1'\n",
    "        lst.append(lst_con)\n",
    "        aw2.write(''.join(lst)+'\\n')\n",
    "\n"
   ]
  },
  {
   "cell_type": "code",
   "execution_count": 63,
   "metadata": {},
   "outputs": [],
   "source": [
    "with open(\"Answer3.txt\",'w') as aw3:\n",
    "    count = len(open('test.py', 'r').readlines())\n",
    "    file = open('test.py', 'r')\n",
    "    strList = file.readlines()\n",
    "    maxEle = 0\n",
    "    for i in strList:\n",
    "        if len(i) > maxEle:\n",
    "            maxEle = len(i)\n",
    "    num = 1\n",
    "    for i in range(len(strList)):\n",
    "        ele = strList[i][:-1] + ' '*(maxEle-len(strList[i])) + '#' +str(i)\n",
    "        aw3.write(ele+'\\n')"
   ]
  }
 ],
 "metadata": {
  "interpreter": {
   "hash": "b6feb695215a16644d7249fabc7eca9646ff5e04add7948447e7e5620ddc2571"
  },
  "kernelspec": {
   "display_name": "Python 3.9.6 64-bit ('python39': conda)",
   "language": "python",
   "name": "python3"
  },
  "language_info": {
   "codemirror_mode": {
    "name": "ipython",
    "version": 3
   },
   "file_extension": ".py",
   "mimetype": "text/x-python",
   "name": "python",
   "nbconvert_exporter": "python",
   "pygments_lexer": "ipython3",
   "version": "3.9.6"
  },
  "orig_nbformat": 4
 },
 "nbformat": 4,
 "nbformat_minor": 2
}
